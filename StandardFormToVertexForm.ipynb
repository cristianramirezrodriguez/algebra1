{
  "nbformat": 4,
  "nbformat_minor": 0,
  "metadata": {
    "colab": {
      "provenance": [],
      "authorship_tag": "ABX9TyMxUMdeJM0BiP7L2Ip2cIlt",
      "include_colab_link": true
    },
    "kernelspec": {
      "name": "python3",
      "display_name": "Python 3"
    },
    "language_info": {
      "name": "python"
    }
  },
  "cells": [
    {
      "cell_type": "markdown",
      "metadata": {
        "id": "view-in-github",
        "colab_type": "text"
      },
      "source": [
        "<a href=\"https://colab.research.google.com/github/cristianramirezrodriguez/algebra1/blob/main/StandardFormToVertexForm.ipynb\" target=\"_parent\"><img src=\"https://colab.research.google.com/assets/colab-badge.svg\" alt=\"Open In Colab\"/></a>"
      ]
    },
    {
      "cell_type": "code",
      "execution_count": null,
      "metadata": {
        "id": "9_ozncEo3F1M"
      },
      "outputs": [],
      "source": [
        "\"Given an a, b, and c value, this code will convert your quadratic from standard form to vertex form.\"\n",
        "\n",
        "from IPython.display import display, Math\n",
        "\n",
        "def h(a, b):\n",
        "  hvalue = -b/(2*a)\n",
        "  return(hvalue)\n",
        "\n",
        "def k(a, b, c):\n",
        "  hvalue = h(a,b)\n",
        "  kvalue = a*hvalue**2+b*hvalue+c\n",
        "  return(kvalue)\n",
        "\n",
        "def tovertex(a, b, c):\n",
        "    vertexform = f\"{a}(x - ({h(a,b)}))^2 + {k(a,b,c)}\"\n",
        "    return(vertexform)\n",
        "\n",
        "a = float(input(\"What is your leading coefficient, a? \"))\n",
        "b = float(input(\"What is your b value? \"))\n",
        "c = float(input(\"What is your y-intercept, c? \"))\n",
        "\n",
        "print(\"The quadratic equation in vertex form is:\")\n",
        "display(Math(f\"{tovertex(a,b,c)}\"))\n"
      ]
    }
  ]
}