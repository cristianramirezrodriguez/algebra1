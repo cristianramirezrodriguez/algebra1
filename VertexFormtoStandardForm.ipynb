{
  "nbformat": 4,
  "nbformat_minor": 0,
  "metadata": {
    "colab": {
      "provenance": [],
      "authorship_tag": "ABX9TyNM2It1Kigq8PyU+c886CCQ",
      "include_colab_link": true
    },
    "kernelspec": {
      "name": "python3",
      "display_name": "Python 3"
    },
    "language_info": {
      "name": "python"
    }
  },
  "cells": [
    {
      "cell_type": "markdown",
      "metadata": {
        "id": "view-in-github",
        "colab_type": "text"
      },
      "source": [
        "<a href=\"https://colab.research.google.com/github/cristianramirezrodriguez/algebra1/blob/main/VertexFormtoStandardForm.ipynb\" target=\"_parent\"><img src=\"https://colab.research.google.com/assets/colab-badge.svg\" alt=\"Open In Colab\"/></a>"
      ]
    },
    {
      "cell_type": "code",
      "execution_count": null,
      "metadata": {
        "id": "dKUp4WKBBuqp"
      },
      "outputs": [],
      "source": [
        "\"Given an a, h, and k value, this code will convert your quadratic from vertex form to standard form.\"\n",
        "\n",
        "from IPython.display import display, Math\n",
        "\n",
        "def b(a, h):\n",
        "    return -2 * a * h\n",
        "\n",
        "def c(a, h, k):\n",
        "    return a * h**2 + k\n",
        "\n",
        "def tostandard(a, h, k):\n",
        "  standardform = f\"{a}x^2 + ({b(a,h)})x+({c(a,h,k)})\"\n",
        "  return(standardform)\n",
        "\n",
        "a = float(input(\"Enter the coefficient 'a': \"))\n",
        "h = float(input(\"What is your axis of symmetry/the x-coordinate of the vertex/h?  \"))\n",
        "k = float(input(\"What is your max or min/the y-coordinate of the vertex/k?  \"))\n",
        "\n",
        "bvalue = b(a, h)\n",
        "cvalue = c(a, h, k)\n",
        "\n",
        "\n",
        "print(\"The quadratic equation in standard form is\")\n",
        "display(Math(f\"{tostandard(a,h,k)}\"))"
      ]
    }
  ]
}