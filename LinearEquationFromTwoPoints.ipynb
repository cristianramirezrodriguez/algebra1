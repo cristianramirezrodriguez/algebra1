{
  "nbformat": 4,
  "nbformat_minor": 0,
  "metadata": {
    "colab": {
      "provenance": [],
      "authorship_tag": "ABX9TyMUFfbin++FB87PGNFsmAsl",
      "include_colab_link": true
    },
    "kernelspec": {
      "name": "python3",
      "display_name": "Python 3"
    },
    "language_info": {
      "name": "python"
    }
  },
  "cells": [
    {
      "cell_type": "markdown",
      "metadata": {
        "id": "view-in-github",
        "colab_type": "text"
      },
      "source": [
        "<a href=\"https://colab.research.google.com/github/cristianramirezrodriguez/algebra1/blob/main/LinearEquationFromTwoPoints.ipynb\" target=\"_parent\"><img src=\"https://colab.research.google.com/assets/colab-badge.svg\" alt=\"Open In Colab\"/></a>"
      ]
    },
    {
      "cell_type": "markdown",
      "source": [
        "Author: [Cristian Ramirez Rodriguez](https://github.com/cristianramirezrodriguez)\n",
        "\n",
        "Say you want to quickly find the linear equation given two points, click on the word runtime above, hit \"Run all\" and follow the directions given.\n",
        "\n",
        "\n",
        "Given two points, $(x_1,y_1)$ and $(x_2,y_2)$ the code below will\n",
        "\n",
        "1. Find The slope:\n",
        "$$m=\\frac{y_2-y_1}{x_2-x_1}$$\n",
        "\n",
        "2. Generate the point-slope equation:\n",
        "\n",
        "$$y-y_1=m(x-x_1)$$\n",
        "$$y-y_1=(\\frac{y_2-y_1}{x_2-x_1})(x-x_1)$$\n",
        "\n",
        "3. Generate the slope-intercept equation:\n",
        "$$y=mx+b$$\n",
        "Note that b can be found by rearranging the point-slope form $y=m(x-x_1)+y_1=mx-mx_1+y_1, b=y_1-mx_1$\n",
        "$$y=\\frac{y_2-y_1}{x_2-x_1}x + y_1-\\frac{y_2-y_1}{x_2-x_1}x_1$$\n",
        "\n",
        "4. Generate a standard form equation:\n",
        "$$Ax+By=C$$\n",
        "$$(y_1-y_2)x+(x_2-x_1)y=(x_2-x_1)y_1+(y_1-y_2)x_1$$\n",
        "\n",
        "5. Plot the line along the domain $[-10, 10]$"
      ],
      "metadata": {
        "id": "adgSDExFVA99"
      }
    },
    {
      "cell_type": "code",
      "execution_count": null,
      "metadata": {
        "id": "HYRn0yohU3OR"
      },
      "outputs": [],
      "source": [
        "import numpy as np\n",
        "import matplotlib.pyplot as plt\n",
        "\n",
        "def deltay(y1, y2):\n",
        "  yf = float(y2)\n",
        "  yi = float(y1)\n",
        "  return(yf-yi)\n",
        "\n",
        "def deltax(x1, x2):\n",
        "  xf = float(x2)\n",
        "  xi = float(x1)\n",
        "  return(xf-xi)\n",
        "\n",
        "def findm(x1, y1, x2, y2):\n",
        "  m = deltay(y1, y2) / deltax(x1, y2)\n",
        "  return(m)\n",
        "\n",
        "def pointslopeequation(x1, y1, x2, y2):\n",
        "    m = findm(x1, y1, x2, y2)\n",
        "    return f\"y - {y1} = {m}(x - {x1})\"\n",
        "\n",
        "def findb(x1, y1, m):\n",
        "  b = y1 - m * x1\n",
        "  return(b)\n",
        "\n",
        "def slopeinterceptequation(x1, y1, x2, y2):\n",
        "    m = findm(x1, y1, x2, y2)\n",
        "    b = findb(x1, y1, m)\n",
        "    return f\"y = {m}x + {b}\"\n",
        "\n",
        "def standardformequation(x1, y1, x2, y2):\n",
        "    A = -deltay(y1, y2)\n",
        "    B = deltax(x1, y2)\n",
        "    C = B * y1 + A * x1\n",
        "    return f\"{A}x + {B}y = {C}\"\n",
        "\n",
        "def plotline(x1, y1, x2, y2):\n",
        "    x = np.linspace(-10, 10, 100)\n",
        "    m = findm(x1, y1, x2, y2)\n",
        "    b = findb(x1, y1, m)\n",
        "    y = m * x + b\n",
        "    plt.plot(x, y, label=f\"Line: {slopeinterceptequation(x1, y1, x2, y2)}\")\n",
        "    plt.scatter([x1, x2], [y1, y2], color='red', label='Given Points')\n",
        "    plt.title('y vs x')\n",
        "    plt.xlabel('x')\n",
        "    plt.ylabel('y')\n",
        "    plt.legend()\n",
        "    plt.grid(True)\n",
        "    plt.show()"
      ]
    },
    {
      "cell_type": "code",
      "source": [
        "print(\"All you need to know everything about a line is two points...\")\n",
        "x1 = float(input(\"What is the x value of your first point? \" ))\n",
        "y1 = float(input(\"What is the y value of your first point? \" ))\n",
        "print(\"Great, thank you!\")\n",
        "x2 = float(input(\"What is the x value of your second point? \" ))\n",
        "y2 = float(input(\"What is the y value of your second point? \" ))\n",
        "m = findm(x1, y1, x2, y2)\n",
        "print(\"Your slope is\", m)\n",
        "b = findb(x1, y1, m)\n",
        "print(\"Your y-intercept is at the point (0,\",b,\")\")\n",
        "print(\"Your point-slope equation is\", pointslopeequation(x1, y1, x2, y2))\n",
        "print(\"Your slope-intercept equation is\", slopeinterceptequation(x1, y1, x2, y2))\n",
        "print(\"A standard form equation is\", standardformequation(x1, y1, x2, y2))\n",
        "xint = -b/m\n",
        "print(\"Your x-intercept is at the point (\",xint,\",0)\" )\n",
        "plotline(x1, y1, x2, y2)"
      ],
      "metadata": {
        "id": "yJaIzm2Oc1XA"
      },
      "execution_count": null,
      "outputs": []
    }
  ]
}