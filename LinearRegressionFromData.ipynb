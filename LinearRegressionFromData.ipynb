{
  "nbformat": 4,
  "nbformat_minor": 0,
  "metadata": {
    "colab": {
      "provenance": [],
      "authorship_tag": "ABX9TyNxzVzHxyX7M6RgDw9GE15v",
      "include_colab_link": true
    },
    "kernelspec": {
      "name": "python3",
      "display_name": "Python 3"
    },
    "language_info": {
      "name": "python"
    }
  },
  "cells": [
    {
      "cell_type": "markdown",
      "metadata": {
        "id": "view-in-github",
        "colab_type": "text"
      },
      "source": [
        "<a href=\"https://colab.research.google.com/github/cristianramirezrodriguez/algebra1/blob/main/LinearRegressionFromData.ipynb\" target=\"_parent\"><img src=\"https://colab.research.google.com/assets/colab-badge.svg\" alt=\"Open In Colab\"/></a>"
      ]
    },
    {
      "cell_type": "code",
      "execution_count": null,
      "metadata": {
        "id": "5CXg8X36Rh1b"
      },
      "outputs": [],
      "source": [
        "'''\n",
        "Say you have a couple of data points\n",
        "e.g. (5, 4) (2,2) (7,7)\n",
        "and you want to find the best fit line\n",
        "You can use the following code to do so.\n",
        "\n",
        "In the example above if you were to hit play, this is what would happen:\n",
        "\n",
        "How many data points do you have? 3\n",
        "Enter x for data point 1: 5\n",
        "Enter y for data point 1: 4\n",
        "Enter x for data point 2: 3\n",
        "Enter y for data point 2: 2\n",
        "Enter x for data point 3: 7\n",
        "Enter y for data point 3: 7\n",
        "The linear regression is y = 1.25 x + -1.916666666666667\n",
        "\n",
        "Which would mean the slope of your best fit line is 1.25 and your y-intercept is -1.916666666666667\n",
        "'''\n",
        "\n",
        "import scipy.stats as stats\n",
        "import matplotlib.pyplot as plt\n",
        "import numpy as np\n",
        "\n",
        "points = int(input(\"How many data points do you have? \"))\n",
        "\n",
        "x = np.empty(points)\n",
        "y = np.empty(points)\n",
        "\n",
        "for i in range(points):\n",
        "    x[i] = float(input(f\"Enter x for data point {i + 1}: \"))\n",
        "    y[i] = float(input(f\"Enter y for data point {i + 1}: \"))\n",
        "\n",
        "linreg = stats.linregress(x, y)\n",
        "m = linreg[0]  # slope\n",
        "b = linreg[1]  # intercept\n",
        "\n",
        "plt.plot(x, y, 'ko', label='Data')\n",
        "plt.plot(x, m * x + b, '-', label='Best Fit Line')\n",
        "plt.xlabel('x-values')\n",
        "plt.ylabel('y-values')\n",
        "plt.legend()\n",
        "\n",
        "# Display the linear regression equation\n",
        "print(\"The linear regression is y =\", m, \"x +\", b)\n",
        "\n",
        "# Show the plot\n",
        "plt.show()\n"
      ]
    }
  ]
}