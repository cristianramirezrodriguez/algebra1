{
  "nbformat": 4,
  "nbformat_minor": 0,
  "metadata": {
    "colab": {
      "provenance": [],
      "authorship_tag": "ABX9TyN12ZUIIfEAe0Pk7R8i4nlI",
      "include_colab_link": true
    },
    "kernelspec": {
      "name": "python3",
      "display_name": "Python 3"
    },
    "language_info": {
      "name": "python"
    }
  },
  "cells": [
    {
      "cell_type": "markdown",
      "metadata": {
        "id": "view-in-github",
        "colab_type": "text"
      },
      "source": [
        "<a href=\"https://colab.research.google.com/github/cristianramirezrodriguez/algebra1/blob/main/VertexEquationFromVertexandPoint.ipynb\" target=\"_parent\"><img src=\"https://colab.research.google.com/assets/colab-badge.svg\" alt=\"Open In Colab\"/></a>"
      ]
    },
    {
      "cell_type": "markdown",
      "source": [
        "In the code box below I'll have code that will let you find the vertex equation of a quadratic provided you have a vertex and a point. In this text box I'll give the explanation to why it works.\n",
        "\n",
        "Say you were given the following information about a quadratic:\n",
        "\n",
        "It has a vertex at ($ħ$,$κ$) and has a point ($\\alpha$, $\\beta$).\n",
        "\n",
        "You could construct the vertex equation $y=a(x-h)^2+k$ by replacing $h$ with $\\hbar$, $k$ with $\\kappa$ and solving for $a$.\n",
        "\n",
        "$$\\beta = a(\\alpha-\\hbar)^2+\\kappa$$\n",
        "\n",
        "$$a=\\frac{(\\beta-\\kappa)}{(\\alpha-\\hbar)^2}$$\n",
        "\n",
        "resulting in\n",
        "\n",
        "$$y=\\frac{(\\beta-\\kappa)}{(\\alpha-\\hbar)^2}(x-\\hbar)^2+\\kappa$$\n",
        "\n",
        "###example:\n",
        "Find the vertex equation of the quadratic with vertex (8, 9) and point (2,6):\n",
        "\n",
        "$$h=8, k=9, y=a(x-8)^2+9$$\n",
        "To find a:\n",
        "$$a=\\frac{(6-9)}{(2-8)^2}=\\frac{-3}{(-6)^2}=\\frac{-3}{36}=\\frac{-1}{12}$$\n",
        "\n",
        "$$y=\\frac{-1}{12}(x-8)^2+9$$"
      ],
      "metadata": {
        "id": "Jh6jCGhk92kJ"
      }
    },
    {
      "cell_type": "code",
      "execution_count": null,
      "metadata": {
        "id": "Z7S0QZa79wmO"
      },
      "outputs": [],
      "source": [
        "from IPython.display import display, Math\n",
        "\n",
        "#Find the a value given a vertex and point\n",
        "def finda(h,k,x,y):\n",
        "  avalue = float((y-k)/(x-h)**2)\n",
        "  return(avalue)\n",
        "\n",
        "h = float(input(\"What is your h value? \"))\n",
        "k = float(input(\"What is your k value? \"))\n",
        "x0 = float(input(\"What is the x value of your point? \"))\n",
        "y0 = float(input(\"What is the y value of your point? \"))\n",
        "a = finda(h,k,x0,y0)\n",
        "print(\"Your leading coefficient, a is\", lead, \"and your equation is\")\n",
        "display(Math(f\"y = {a}(x-{h})^2+{k}\"))"
      ]
    }
  ]
}