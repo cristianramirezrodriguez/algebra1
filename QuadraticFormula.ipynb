{
  "nbformat": 4,
  "nbformat_minor": 0,
  "metadata": {
    "colab": {
      "provenance": [],
      "authorship_tag": "ABX9TyMF+gcWGIGXHOg9aBBwGXCM",
      "include_colab_link": true
    },
    "kernelspec": {
      "name": "python3",
      "display_name": "Python 3"
    },
    "language_info": {
      "name": "python"
    }
  },
  "cells": [
    {
      "cell_type": "markdown",
      "metadata": {
        "id": "view-in-github",
        "colab_type": "text"
      },
      "source": [
        "<a href=\"https://colab.research.google.com/github/cristianramirezrodriguez/algebra1/blob/main/QuadraticFormula.ipynb\" target=\"_parent\"><img src=\"https://colab.research.google.com/assets/colab-badge.svg\" alt=\"Open In Colab\"/></a>"
      ]
    },
    {
      "cell_type": "code",
      "execution_count": 14,
      "metadata": {
        "colab": {
          "base_uri": "https://localhost:8080/",
          "height": 234
        },
        "id": "f38pS5Xboo07",
        "outputId": "2b59ded0-871d-478a-db54-2200628eb8f9"
      },
      "outputs": [
        {
          "output_type": "stream",
          "name": "stdout",
          "text": [
            "Hello, it's Mr. Ramirez, let's figure out the roots of your quadratic!\n",
            "What is your leading coefficient, a?\n",
            "1\n",
            "What is your b-value?\n",
            "40\n",
            "What is your y-intercept, c?\n",
            "2\n",
            "Your discriminant is 1592.0 ! Remember, if D>0 you'll have two real roots, D=0 you'll have one, D<0 you'll have no real roots...\n",
            "You could write your roots as\n"
          ]
        },
        {
          "output_type": "display_data",
          "data": {
            "text/plain": [
              "<IPython.core.display.Math object>"
            ],
            "text/latex": "$\\displaystyle x=\\frac{-(40.0) \\pm \\sqrt{1592.0}}{2*1.0}$"
          },
          "metadata": {}
        },
        {
          "output_type": "stream",
          "name": "stdout",
          "text": [
            "Your roots are x= -0.050062656739996214 and -39.949937343260004\n"
          ]
        }
      ],
      "source": [
        "'''\n",
        "Given a quadratic function of the form y = ax^2 + bx + c where a,b,c are integers\n",
        "Assuming you know a, b, and c,\n",
        "this program when run will tell you the discriminant, the number of real roots\n",
        "and what the real roots are.\n",
        "'''\n",
        "\n",
        "import numpy as np\n",
        "from IPython.display import display, Math\n",
        "\n",
        "def discriminant(a, b, c):\n",
        "  D = b*b - 4*a*c\n",
        "  return(D)\n",
        "\n",
        "def quadformula(a, b, c):\n",
        "  assert int(discriminant(a,b,c))>=int(0), \"The discriminant is less than zero, no real roots!\"\n",
        "  ainverse = 1/a\n",
        "  if(discriminant(a,b,c)==0):\n",
        "    root1 = 0.5*ainverse*(-1*b + np.sqrt(discriminant(a,b,c)))\n",
        "    root2 = root1\n",
        "  else:\n",
        "    root1 = 0.5*ainverse*(-1*b + np.sqrt(discriminant(a,b,c)))\n",
        "    root2 = 0.5*ainverse*(-1*b - np.sqrt(discriminant(a,b,c)))\n",
        "  rootlist = [root1, root2]\n",
        "  return(rootlist)\n",
        "\n",
        "print(\"Hello, it's Mr. Ramirez, let's figure out the roots of your quadratic!\")\n",
        "print(\"What is your leading coefficient, a?\")\n",
        "a=float(input())\n",
        "print(\"What is your b-value?\")\n",
        "b=float(input())\n",
        "print(\"What is your y-intercept, c?\")\n",
        "c=float(input())\n",
        "D = discriminant(a,b,c)\n",
        "print(\"Your discriminant is\", D,\"! Remember, if D>0 you'll have two real roots, D=0 you'll have one, D<0 you'll have no real roots...\")\n",
        "print(\"You could write your roots as\")\n",
        "display(Math(f\"x=\\\\frac{{-({(b)}) \\pm \\sqrt{{{D}}}}}{{2*{a}}}\"))\n",
        "print(\"Your roots are x=\",float(quadformula(a,b,c)[0]), \"and\", float(quadformula(a,b,c)[1]))"
      ]
    }
  ]
}