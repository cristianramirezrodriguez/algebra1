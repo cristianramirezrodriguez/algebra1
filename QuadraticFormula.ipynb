{
  "nbformat": 4,
  "nbformat_minor": 0,
  "metadata": {
    "colab": {
      "provenance": [],
      "authorship_tag": "ABX9TyMF+gcWGIGXHOg9aBBwGXCM",
      "include_colab_link": true
    },
    "kernelspec": {
      "name": "python3",
      "display_name": "Python 3"
    },
    "language_info": {
      "name": "python"
    }
  },
  "cells": [
    {
      "cell_type": "markdown",
      "metadata": {
        "id": "view-in-github",
        "colab_type": "text"
      },
      "source": [
        "<a href=\"https://colab.research.google.com/github/cristianramirezrodriguez/algebra1/blob/main/QuadraticFormula.ipynb\" target=\"_parent\"><img src=\"https://colab.research.google.com/assets/colab-badge.svg\" alt=\"Open In Colab\"/></a>"
      ]
    },
    {
      "cell_type": "code",
      "execution_count": null,
      "metadata": {
        "id": "f38pS5Xboo07"
      },
      "outputs": [],
      "source": [
        "'''\n",
        "Given a quadratic function of the form y = ax^2 + bx + c where a,b,c are integers\n",
        "Assuming you know a, b, and c,\n",
        "this program when run will tell you the discriminant, the number of real roots\n",
        "and what the real roots are.\n",
        "'''\n",
        "\n",
        "import numpy as np\n",
        "from IPython.display import display, Math\n",
        "\n",
        "def discriminant(a, b, c):\n",
        "  D = b*b - 4*a*c\n",
        "  return(D)\n",
        "\n",
        "def quadformula(a, b, c):\n",
        "  assert int(discriminant(a,b,c))>=int(0), \"The discriminant is less than zero, no real roots!\"\n",
        "  ainverse = 1/a\n",
        "  if(discriminant(a,b,c)==0):\n",
        "    root1 = 0.5*ainverse*(-1*b + np.sqrt(discriminant(a,b,c)))\n",
        "    root2 = root1\n",
        "  else:\n",
        "    root1 = 0.5*ainverse*(-1*b + np.sqrt(discriminant(a,b,c)))\n",
        "    root2 = 0.5*ainverse*(-1*b - np.sqrt(discriminant(a,b,c)))\n",
        "  rootlist = [root1, root2]\n",
        "  return(rootlist)\n",
        "\n",
        "print(\"Hello, it's Mr. Ramirez, let's figure out the roots of your quadratic!\")\n",
        "print(\"What is your leading coefficient, a?\")\n",
        "a=float(input())\n",
        "print(\"What is your b-value?\")\n",
        "b=float(input())\n",
        "print(\"What is your y-intercept, c?\")\n",
        "c=float(input())\n",
        "D = discriminant(a,b,c)\n",
        "print(\"Your discriminant is\", D,\"! Remember, if D>0 you'll have two real roots, D=0 you'll have one, D<0 you'll have no real roots...\")\n",
        "print(\"You could write your roots as\")\n",
        "display(Math(f\"x=\\\\frac{{-({(b)}) \\pm \\sqrt{{{D}}}}}{{2*{a}}}\"))\n",
        "print(\"Your roots are x=\",float(quadformula(a,b,c)[0]), \"and\", float(quadformula(a,b,c)[1]))"
      ]
    }
  ]
}